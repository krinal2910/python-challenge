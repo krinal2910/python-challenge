{
 "cells": [
  {
   "cell_type": "code",
   "execution_count": 1,
   "metadata": {},
   "outputs": [],
   "source": [
    "import csv\n",
    "import os"
   ]
  },
  {
   "cell_type": "code",
   "execution_count": 2,
   "metadata": {},
   "outputs": [],
   "source": [
    "file_to_load = os.path.join(\"Resources\", \"budget_data.csv\")  # Input file path\n",
    "file_to_output = os.path.join(\"analysis\", \"budget_analysis.txt\")  # Output file path"
   ]
  },
  {
   "cell_type": "code",
   "execution_count": 82,
   "metadata": {},
   "outputs": [],
   "source": [
    "# Define variables to track the financial data\n",
    "total_months = 0\n",
    "total_value = 0\n",
    "avg_diff = 0\n",
    "\n",
    "\n",
    "monthly_changes = 0\n",
    "\n",
    "greatest_increase_date = \"\"\n",
    "max_inc = 0\n",
    "\n",
    "greatest_decrease_date = \"\"\n",
    "max_dec = 0"
   ]
  },
  {
   "cell_type": "code",
   "execution_count": 90,
   "metadata": {},
   "outputs": [
    {
     "name": "stdout",
     "output_type": "stream",
     "text": [
      "Financial Analysis\n",
      "----------------------------\n",
      "Total Months: 680\n",
      "Total: $22564198\n",
      "Average Change: $-8311.11\n",
      "Greatest Increase in Profits: Aug-16 ($1862002)\n",
      "Greatest Decrease in Profits: Feb-14 ($-1825558)\n",
      "\n"
     ]
    }
   ],
   "source": [
    "# Open and read the csv file\n",
    "\n",
    "with open(file_to_load) as financial_data:\n",
    "    csv_reader = csv.reader(financial_data)  # Read the file\n",
    "\n",
    "    header = next(csv_reader)  # Skip the header row\n",
    "    first_row = next(csv_reader)  # Extract first row to avoid appending to monthly_changes\n",
    "    previous_profit_loss = int(first_row[1])  # Assuming the second column contains numeric data\n",
    "    total_profit_loss = previous_profit_loss  # Initialize the total profit/loss\n",
    "\n",
    "    greatest_increase_date = str(first_row[0])\n",
    "\n",
    "    max_dec = previous_profit_loss\n",
    "    greatest_decrease_date = str(first_row[0])\n",
    "\n",
    "    for row in csv_reader:\n",
    "        total_months += 1  # Count total months\n",
    "        current_profit_loss = int(row[1])\n",
    "        profit_change = (current_profit_loss - previous_profit_loss)\n",
    "        monthly_changes += profit_change\n",
    "\n",
    "        if profit_change >= max_inc:\n",
    "            max_inc = profit_change\n",
    "            greatest_increase_date = str(row[0])\n",
    "\n",
    "        if profit_change <= max_dec:\n",
    "            max_dec = profit_change\n",
    "            greatest_decrease_date = str(row[0])       \n",
    "\n",
    "        previous_profit_loss = current_profit_loss\n",
    "        total_profit_loss += current_profit_loss  # Add current value to total profit/loss\n",
    "\n",
    "avg_diff = monthly_changes/total_months\n",
    "\n",
    "\n",
    "# Output the results\n",
    "output = (\n",
    "    \"Financial Analysis\\n\"\n",
    "    \"----------------------------\\n\"\n",
    "    f\"Total Months: {total_months}\\n\"\n",
    "    f\"Total: ${total_profit_loss}\\n\"\n",
    "    f\"Average Change: ${avg_diff:.2f}\\n\"\n",
    "    f\"Greatest Increase in Profits: {greatest_increase_date} (${max_inc})\\n\"\n",
    "    f\"Greatest Decrease in Profits: {greatest_decrease_date} (${max_dec})\\n\"\n",
    ")\n",
    "\n",
    "# Write the results to a file\n",
    "with open(file_to_output, \"w\") as file:\n",
    "    file.write(output)\n",
    "\n",
    "# Print the results\n",
    "print(output)\n",
    "\n",
    "\n"
   ]
  },
  {
   "cell_type": "code",
   "execution_count": 22,
   "metadata": {},
   "outputs": [
    {
     "data": {
      "text/plain": [
       "22564198"
      ]
     },
     "execution_count": 22,
     "metadata": {},
     "output_type": "execute_result"
    }
   ],
   "source": [
    "total_value"
   ]
  }
 ],
 "metadata": {
  "kernelspec": {
   "display_name": "pandas_intro",
   "language": "python",
   "name": "python3"
  },
  "language_info": {
   "codemirror_mode": {
    "name": "ipython",
    "version": 3
   },
   "file_extension": ".py",
   "mimetype": "text/x-python",
   "name": "python",
   "nbconvert_exporter": "python",
   "pygments_lexer": "ipython3",
   "version": "3.11.9"
  }
 },
 "nbformat": 4,
 "nbformat_minor": 2
}
