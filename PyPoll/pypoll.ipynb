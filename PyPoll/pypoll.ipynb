{
 "cells": [
  {
   "cell_type": "code",
   "execution_count": 16,
   "metadata": {},
   "outputs": [],
   "source": [
    "# Import necessary modules\n",
    "import csv\n",
    "import os"
   ]
  },
  {
   "cell_type": "code",
   "execution_count": 17,
   "metadata": {},
   "outputs": [],
   "source": [
    "file_to_load = os.path.join(\"Resources\", \"election_data.csv\")  # Input file path\n",
    "file_to_output = os.path.join(\"analysis\", \"election_analysis.txt\")  # Output file path"
   ]
  },
  {
   "cell_type": "code",
   "execution_count": 108,
   "metadata": {},
   "outputs": [],
   "source": [
    "# Initialize variables to track the election data\n",
    "total_votes = 0  # Track the total number of votes cast"
   ]
  },
  {
   "cell_type": "code",
   "execution_count": 109,
   "metadata": {},
   "outputs": [],
   "source": [
    "# Define lists and dictionaries to track candidate names and vote counts\n",
    "candidate_votes = {}  # Dictionary to store candidate names and their vote counts\n",
    "winning_candidate = \"\"\n",
    "winning_count = 0"
   ]
  },
  {
   "cell_type": "code",
   "execution_count": 110,
   "metadata": {},
   "outputs": [],
   "source": [
    "# Open the CSV file and process it\n",
    "with open(file_to_load) as election_data:\n",
    "    reader = csv.reader(election_data)\n",
    "\n",
    "    # Skip the header row\n",
    "    header = next(reader)\n",
    "   \n",
    "     # Loop through each row of the dataset and process it\n",
    "    for row in reader:\n",
    "        total_votes += 1  # Increment the total vote count for each row\n",
    "        candidate_name = row[2]\n",
    "        if candidate_name not in candidate_votes:\n",
    "            candidate_votes[candidate_name] = 0\n",
    "        candidate_votes[candidate_name] += 1\n",
    "    \n",
    "\n",
    "    \n",
    "        "
   ]
  },
  {
   "cell_type": "code",
   "execution_count": 113,
   "metadata": {},
   "outputs": [
    {
     "name": "stdout",
     "output_type": "stream",
     "text": [
      "\n",
      "Total Votes: 369711\n",
      "Charles Casper Stockham: 23.049% (85213)\n",
      "Diana DeGette: 73.812% (272892)\n",
      "Raymon Anthony Doane: 3.139% (11606)\n",
      "Winner: Diana DeGette\n"
     ]
    }
   ],
   "source": [
    "with open(file_to_output, \"w\") as file:\n",
    "    file.write(\"Election Results\\n\")\n",
    "    file.write(\"----------------------------\\n\")\n",
    "    print(f\"\\nTotal Votes: {total_votes}\")\n",
    "    file.write(f\"Total Votes: {total_votes}\\n\")\n",
    "    file.write(\"----------------------------\\n\")\n",
    "    \n",
    "    # Loop through each candidate in the dictionary\n",
    "    for candidate, votes in candidate_votes.items():\n",
    "        vote_percentage = (votes / total_votes) * 100  # Calculate the percentage of votes the candidate won\n",
    "        print(f\"{candidate}: {vote_percentage:.3f}% ({votes})\")\n",
    "        file.write(f\"{candidate}: {vote_percentage:.3f}% ({votes})\\n\")\n",
    "        \n",
    "        # Check if this candidate has the most votes\n",
    "        if votes > winning_count:\n",
    "            winning_candidate = candidate\n",
    "            winning_count = votes\n",
    "\n",
    "    # Print and write the winner outside the loop\n",
    "    print(f\"Winner: {winning_candidate}\")\n",
    "    file.write(\"----------------------------\\n\")\n",
    "    file.write(f\"Winner: {winning_candidate}\\n\")\n",
    "    file.write(\"----------------------------\\n\")"
   ]
  }
 ],
 "metadata": {
  "kernelspec": {
   "display_name": "pandas_intro",
   "language": "python",
   "name": "python3"
  },
  "language_info": {
   "codemirror_mode": {
    "name": "ipython",
    "version": 3
   },
   "file_extension": ".py",
   "mimetype": "text/x-python",
   "name": "python",
   "nbconvert_exporter": "python",
   "pygments_lexer": "ipython3",
   "version": "3.11.9"
  }
 },
 "nbformat": 4,
 "nbformat_minor": 2
}
